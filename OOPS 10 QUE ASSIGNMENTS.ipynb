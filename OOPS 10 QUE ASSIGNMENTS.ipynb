{
 "cells": [
  {
   "cell_type": "markdown",
   "id": "b69a185b-776a-4676-a305-8a6e1ba68cc2",
   "metadata": {},
   "source": [
    "Problem 1: Bank Account Create a class representing a bank account with attributes like account number,\n",
    "account holder name, and balance. Implement methods to deposit and withdraw money from the account.\n"
   ]
  },
  {
   "cell_type": "code",
   "execution_count": 36,
   "id": "2d17d028-9f31-47ec-b0a0-61d3fb301313",
   "metadata": {},
   "outputs": [],
   "source": [
    "class bankaccount:\n",
    "    def __init__(self,accountnumber,accountholdername,balance = 0):\n",
    "        self.accountnumber = accountnumber\n",
    "        self.accountholdername = accountholdername\n",
    "        self.balance = balance\n",
    "        \n",
    "    def deposit(self):\n",
    "        amount = int(input(\"enter amount\"))\n",
    "        if amount > 0:\n",
    "            self.balance = self.balance+amount\n",
    "            print(\"deposited\")\n",
    "        else:\n",
    "            print(\"invalid deposit amount\")\n",
    "            \n",
    "        \n",
    "    def withdraw(self):\n",
    "        amount = int(input(\"enter amount\"))\n",
    "        if amount >0 and amount<self.balance:\n",
    "            self.balance = self.balance - amount\n",
    "        print(\"withdrawn the money\")"
   ]
  },
  {
   "cell_type": "code",
   "execution_count": 37,
   "id": "3cfc9273-91bf-493e-a6c2-2bf9ffb08e19",
   "metadata": {},
   "outputs": [],
   "source": [
    "obj = bankaccount(12345,\"vamshi\",120)"
   ]
  },
  {
   "cell_type": "code",
   "execution_count": 43,
   "id": "6d66659d-92dd-4996-afba-e9441ec52d1f",
   "metadata": {},
   "outputs": [
    {
     "name": "stdin",
     "output_type": "stream",
     "text": [
      "enter amount 1\n"
     ]
    },
    {
     "name": "stdout",
     "output_type": "stream",
     "text": [
      "deposited\n"
     ]
    }
   ],
   "source": [
    "obj.deposit()"
   ]
  },
  {
   "cell_type": "code",
   "execution_count": 44,
   "id": "e5e9b7ff-2999-4471-8777-e9f8e28b8d09",
   "metadata": {},
   "outputs": [
    {
     "data": {
      "text/plain": [
       "321"
      ]
     },
     "execution_count": 44,
     "metadata": {},
     "output_type": "execute_result"
    }
   ],
   "source": [
    "obj.balance"
   ]
  },
  {
   "cell_type": "code",
   "execution_count": 47,
   "id": "d62a1464-5c80-4905-a507-8a437a4e620f",
   "metadata": {},
   "outputs": [
    {
     "name": "stdin",
     "output_type": "stream",
     "text": [
      "enter amount 320\n"
     ]
    },
    {
     "name": "stdout",
     "output_type": "stream",
     "text": [
      "withdrawn the money\n"
     ]
    }
   ],
   "source": [
    "obj.withdraw()"
   ]
  },
  {
   "cell_type": "code",
   "execution_count": 48,
   "id": "0d0a6cf0-26d6-4af5-99b5-4dddd10514e2",
   "metadata": {},
   "outputs": [
    {
     "data": {
      "text/plain": [
       "1"
      ]
     },
     "execution_count": 48,
     "metadata": {},
     "output_type": "execute_result"
    }
   ],
   "source": [
    "obj.balance"
   ]
  },
  {
   "cell_type": "markdown",
   "id": "49e0e379-3ba4-499a-ba70-014325a810dc",
   "metadata": {},
   "source": [
    "Problem 2: Employee Management Create a class representing an employee with attributes like employee ID, name, and salary. Implement methods to calculate the yearly bonus \n",
    "and display employee details.\n"
   ]
  },
  {
   "cell_type": "code",
   "execution_count": 30,
   "id": "6fb87dd9-9ac4-408b-a5fc-5e72bd65fb5b",
   "metadata": {},
   "outputs": [],
   "source": [
    "class EmployeeManagement:\n",
    "    def __init__(self,employeeID,name,salary):\n",
    "        self.employeeID= employeeID\n",
    "        self.name = name\n",
    "        self.salary = salary\n",
    "        \n",
    "    def yearlyBonus(self,yearlyBonus=0.10):\n",
    "        self.salary = self.salary*yearlyBonus\n",
    "        return self.salary\n",
    "        \n",
    "    def display(self):\n",
    "        print(f\"employee id is\",self.employeeID)\n",
    "        print(f\"employee name is\",self.name)\n",
    "        print(f\"employee salary is\",self.salary)\n",
    "        "
   ]
  },
  {
   "cell_type": "code",
   "execution_count": 31,
   "id": "1d10e8da-5d78-47ff-9311-78c0b8c5ab3c",
   "metadata": {},
   "outputs": [],
   "source": [
    "ob = EmployeeManagement(123,\"vamshi\",20000)"
   ]
  },
  {
   "cell_type": "code",
   "execution_count": 32,
   "id": "6dc14879-caf5-4831-9a2c-7483c1840a9a",
   "metadata": {},
   "outputs": [
    {
     "data": {
      "text/plain": [
       "2000.0"
      ]
     },
     "execution_count": 32,
     "metadata": {},
     "output_type": "execute_result"
    }
   ],
   "source": [
    "ob.yearlyBonus()"
   ]
  },
  {
   "cell_type": "code",
   "execution_count": 33,
   "id": "acefa8b3-6618-4267-8ef3-e629991aa7ad",
   "metadata": {},
   "outputs": [
    {
     "name": "stdout",
     "output_type": "stream",
     "text": [
      "employee id is 123\n",
      "employee name is vamshi\n",
      "employee salary is 2000.0\n"
     ]
    }
   ],
   "source": [
    "ob.display()"
   ]
  },
  {
   "cell_type": "markdown",
   "id": "b0136598-64c7-4221-a2e1-653fa34aa6eb",
   "metadata": {},
   "source": [
    "Problem 3: Vehicle Rental Create a class representing a vehicle rental system. Implement methods to rent a vehicle, return a vehicle, \n",
    "and display available vehicles.\n"
   ]
  },
  {
   "cell_type": "code",
   "execution_count": 116,
   "id": "e30951a4-777d-4f0e-b14d-a7e5c2969d50",
   "metadata": {},
   "outputs": [],
   "source": [
    "class VehicleRental:\n",
    "    def __init__(self):\n",
    "        self.availablevehicles = []\n",
    "    def rentavehicle(self,vehicle):\n",
    "        if vehicle in self.availablevehicles:\n",
    "            self.availablevehicles.remove(vehicle)\n",
    "            print(\"take the vehicle\")\n",
    "        else:\n",
    "            print(\"vehicle is not available\")\n",
    "    def returnavehicle(self,vehicle):\n",
    "        self.availablevehicles.append(vehicle)\n",
    "        print(\"thanks\")\n",
    "    def display(self):\n",
    "        for vehicle in self.availablevehicles:\n",
    "            print(vehicle)\n",
    "        "
   ]
  },
  {
   "cell_type": "code",
   "execution_count": 123,
   "id": "0a271e01-2e99-47a7-9efb-bca80d17fc5f",
   "metadata": {},
   "outputs": [],
   "source": [
    "v = VehicleRental()"
   ]
  },
  {
   "cell_type": "code",
   "execution_count": 136,
   "id": "f94c8fb6-da55-415a-a5f1-ce826a111513",
   "metadata": {},
   "outputs": [],
   "source": [
    "v.availablevehicles.append(\"car1\")\n",
    "v.availablevehicles.append(\"car2\")\n",
    "v.availablevehicles.append(\"bike1\")"
   ]
  },
  {
   "cell_type": "code",
   "execution_count": 137,
   "id": "e0331c62-87d4-4a81-9cf6-5357f46da483",
   "metadata": {},
   "outputs": [
    {
     "name": "stdout",
     "output_type": "stream",
     "text": [
      "take the vehicle\n"
     ]
    }
   ],
   "source": [
    "v.rentavehicle(\"car1\")"
   ]
  },
  {
   "cell_type": "code",
   "execution_count": 138,
   "id": "488144a8-740c-4b5e-8e82-e34db1dbcc82",
   "metadata": {},
   "outputs": [
    {
     "name": "stdout",
     "output_type": "stream",
     "text": [
      "thanks\n"
     ]
    }
   ],
   "source": [
    "v.returnavehicle(\"PULSAR\")"
   ]
  },
  {
   "cell_type": "code",
   "execution_count": 139,
   "id": "a94c8d56-b3b4-4ce6-8fae-07b232c6e276",
   "metadata": {},
   "outputs": [
    {
     "name": "stdout",
     "output_type": "stream",
     "text": [
      "car1\n",
      "car1\n",
      "car2\n",
      "bike1\n",
      "PULSAR\n"
     ]
    }
   ],
   "source": [
    "v.display()"
   ]
  },
  {
   "cell_type": "raw",
   "id": "7ac8ccbc-456b-4b9c-b85b-01d204e1ea33",
   "metadata": {},
   "source": [
    "\n",
    "Problem 4: Library Catalog Create classes representing a library and a book. Implement methods to add books to the library, \n",
    "borrow books, and display available books.\n"
   ]
  },
  {
   "cell_type": "code",
   "execution_count": 13,
   "id": "76b307b9-a7ae-4dc2-9546-d42d79e9d9c5",
   "metadata": {},
   "outputs": [
    {
     "name": "stdout",
     "output_type": "stream",
     "text": [
      "available books are\n",
      "python\n",
      "ds\n",
      "data\n"
     ]
    },
    {
     "data": {
      "text/plain": [
       "['python', 'data', 'sql']"
      ]
     },
     "execution_count": 13,
     "metadata": {},
     "output_type": "execute_result"
    }
   ],
   "source": [
    "class library:\n",
    "    def __init__(self,available_books):\n",
    "        self.available_books = available_books\n",
    "    def display(self):\n",
    "        print(\"available books are\")\n",
    "        for books in self.available_books:\n",
    "            print(books)\n",
    "    \n",
    "class book(library):   \n",
    "    def add_books(self,addbook):\n",
    "        self.addbook = addbook\n",
    "        if addbook not in self.available_books:\n",
    "            return self.available_books.append(addbook)\n",
    "        else:\n",
    "            print(\"book already avaible\")\n",
    "    def borrow_books (self,borrowbook):\n",
    "        self.borrowbook = borrowbook\n",
    "        if borrowbook in self.available_books:\n",
    "            return self.available_books.remove(borrowbook)\n",
    "        else:\n",
    "            return \"book is not available\"\n",
    "    \n",
    "l = book([\"python\",\"ds\",\"data\"])   \n",
    "l.display()\n",
    "l.add_books(\"sql\")\n",
    "l.borrow_books(\"ds\")\n",
    "l.available_books"
   ]
  },
  {
   "cell_type": "markdown",
   "id": "60ccb0c6-e4ef-4006-862c-4cb58a8b1680",
   "metadata": {},
   "source": [
    "Problem 5: Product Inventory Create classes representing a product and an inventory system. Implement methods to add products to the inventory, update product quantity,\n",
    "and display available products.\n"
   ]
  },
  {
   "cell_type": "code",
   "execution_count": 12,
   "id": "57b8cf77-c52f-4e64-a3c7-de8daef15fef",
   "metadata": {},
   "outputs": [
    {
     "name": "stdout",
     "output_type": "stream",
     "text": [
      "available products are\n",
      "phone\n",
      "laptop\n",
      "tv\n",
      "product was added: a.c\n",
      "1\n",
      "2\n",
      "3\n",
      "4\n"
     ]
    }
   ],
   "source": [
    "class product:\n",
    "    def __init__(self,products):\n",
    "        self.products = products\n",
    "    def display(self):\n",
    "        print(\"available products are\")\n",
    "        for products in self.products:\n",
    "            print(products)\n",
    "    \n",
    "class inventorysystem( product):   \n",
    "    def add_products(self,newproduct):\n",
    "        self.newproduct = newproduct\n",
    "        if self.newproduct not in self.products:\n",
    "            self.products.append(newproduct)\n",
    "            print(\"product was added:\", newproduct)\n",
    "        \n",
    "        else:\n",
    "            return \"product available\"\n",
    "    \n",
    "    def update_product (self):\n",
    "        i = 0\n",
    "        for product in self.products:\n",
    "            i=i+1\n",
    "            print(i)\n",
    "    \n",
    "l = inventorysystem([\"phone\",\"laptop\",\"tv\"])   \n",
    "l.display()\n",
    "l.add_products(\"a.c\")\n",
    "l.update_product()\n"
   ]
  },
  {
   "cell_type": "markdown",
   "id": "7b62e6c4-91ba-4939-a345-47b73d84e1e5",
   "metadata": {},
   "source": [
    "Problem 6: Shape Calculation Create a class representing a shape with attributes like length, width, and height. \n",
    "Implement methods to calculate the area and perimeter of the shape.\n"
   ]
  },
  {
   "cell_type": "code",
   "execution_count": 35,
   "id": "98317968-78bd-4cf4-94b3-b4578de4be3e",
   "metadata": {},
   "outputs": [
    {
     "name": "stdout",
     "output_type": "stream",
     "text": [
      "1\n",
      "4\n"
     ]
    }
   ],
   "source": [
    "class shape_calculation:\n",
    "    def __init__(self,shape,l,b,h):\n",
    "        self.l = l\n",
    "        self.b = b\n",
    "        self.h = h\n",
    "        self.shape = shape\n",
    "    def area(self):\n",
    "        if self.shape == \"triangle\":\n",
    "            return 0.5*self.b*self.h\n",
    "        elif self.shape == \"square\":\n",
    "            return self.l*self.l\n",
    "    def perimeter(self):\n",
    "        if self.shape == \"triangle\":\n",
    "            return \"perimeter for triangle not defined\"\n",
    "        elif self.shape == \"square\":\n",
    "            return 4*self.l\n",
    "shape = shape_calculation(\"square\",1,23,4)\n",
    "print(shape.area())\n",
    "print(shape.perimeter())"
   ]
  },
  {
   "cell_type": "markdown",
   "id": "6eb2766d-837e-4ba1-8f35-bcd890d7ce1e",
   "metadata": {},
   "source": [
    "Problem 7: Student Management Create a class representing a student with attributes like student ID, name, and grades. \n",
    "Implement methods to calculate the average grade and display student details.\n"
   ]
  },
  {
   "cell_type": "code",
   "execution_count": 51,
   "id": "e0e92c8e-a690-4246-aa26-c03186fa5f8f",
   "metadata": {},
   "outputs": [
    {
     "data": {
      "text/plain": [
       "['studentid:', 2, 'name:', 'vamshi', 'grades:', [7, 9, 8]]"
      ]
     },
     "execution_count": 51,
     "metadata": {},
     "output_type": "execute_result"
    }
   ],
   "source": [
    "class studentManagement:\n",
    "    def __init__(self,sid,name,grades):\n",
    "        self.sid = sid\n",
    "        self.name = name\n",
    "        self.grades = grades\n",
    "    \n",
    "    def avg_grade(self):\n",
    "        total = sum(self.grades)\n",
    "        avg = total/len(self.grades)\n",
    "        return avg\n",
    "    def display_details(self):\n",
    "        details = [\"studentid:\",self.sid,\"name:\",self.name,\"grades:\",self.grades]\n",
    "        return details\n",
    "    \n",
    "s = studentManagement(2,\"vamshi\",[7,9,8])\n",
    "s.avg_grade()\n",
    "s.display_details()"
   ]
  },
  {
   "cell_type": "markdown",
   "id": "2e4f6727-78c4-4862-b4e3-0af70d24786a",
   "metadata": {},
   "source": [
    "\n",
    "Problem 8: Email Management Create a class representing an email with attributes like sender, recipient, \n",
    "and subject. Implement methods to send an email and display email details."
   ]
  },
  {
   "cell_type": "code",
   "execution_count": 63,
   "id": "01f01764-fb4c-4a6e-b1a4-27aec39d12fb",
   "metadata": {},
   "outputs": [
    {
     "name": "stdout",
     "output_type": "stream",
     "text": [
      "('sender:', 'vamshi@gm,ail.com', 'subject:', 'application for intern')\n",
      "['sender:', 'vamshi@gm,ail.com', 'recipient:', 'sudh@gmail.com', 'subject:', 'application for intern', 'body:', 'i am interested i n this position i attached my cv']\n"
     ]
    }
   ],
   "source": [
    "class EmailManagement:\n",
    "    \n",
    "    def __init__(self,sender,recipient,subject,body):\n",
    "        self.sender = sender\n",
    "        self.recipient = recipient\n",
    "        self.subject = subject\n",
    "        self.body = body\n",
    "        \n",
    "    def send_email(self):\n",
    "        return \"sender:\",self.sender,\"subject:\",self.subject\n",
    "    \n",
    "    def email_emails(self):\n",
    "        details = [\"sender:\",self.sender,\"recipient:\",self.recipient,\"subject:\",self.subject,\"body:\",self.body]\n",
    "        return details\n",
    "obj = EmailManagement(\"vamshi@gm,ail.com\",\"sudh@gmail.com\",\"application for intern\",\"i am interested i n this position i attached my cv\")\n",
    "print(obj.send_email())\n",
    "print(obj.email_emails())"
   ]
  },
  {
   "cell_type": "markdown",
   "id": "4d323a09-fbfd-4ca6-99d3-706d4ebf9f55",
   "metadata": {},
   "source": [
    "Problem 9: Social Media Profile Create a class representing a social media profile with attributes like username and posts. \n",
    "Implement methods to add posts, display posts, and search for posts by keyword.\n"
   ]
  },
  {
   "cell_type": "code",
   "execution_count": 85,
   "id": "3bdc7fd5-a13b-4a40-b560-d90a8a398ee3",
   "metadata": {},
   "outputs": [
    {
     "name": "stdout",
     "output_type": "stream",
     "text": [
      "internship\n",
      "['datascience course', 'pwskills fullstack', 'pyhon dsa', 'internship']\n"
     ]
    },
    {
     "data": {
      "text/plain": [
       "['pwskills fullstack']"
      ]
     },
     "execution_count": 85,
     "metadata": {},
     "output_type": "execute_result"
    }
   ],
   "source": [
    "class socialmediaprofile:\n",
    "    def __init__(self,username,posts):\n",
    "        self.username = username\n",
    "        self.posts = posts\n",
    "    \n",
    "    def add_posts(self,newpost):\n",
    "        self.posts.append(newpost)\n",
    "        return newpost\n",
    "    def display_posts(self):\n",
    "        return self.posts\n",
    "    \n",
    "    def searchpost(self,keyword):\n",
    "        matching_post = []\n",
    "        for post in self.posts:\n",
    "            if keyword in post:\n",
    "                matching_post.append(post)\n",
    "        return matching_post\n",
    "            \n",
    "            \n",
    "instagram = socialmediaprofile([\"vamshi\",\"sudhanshu\",\"krish\"],[\"datascience course\",\"pwskills fullstack\",\"pyhon dsa\"])\n",
    "print(instagram.add_posts(\"internship\"))\n",
    "print(instagram.display_posts()) \n",
    "instagram.searchpost(\"fullstack\")"
   ]
  },
  {
   "cell_type": "code",
   "execution_count": null,
   "id": "039cdbd7-38f5-41f0-ba8c-8acf3b5f372b",
   "metadata": {},
   "outputs": [],
   "source": [
    "problem 10: ToDo List Create a class representing a ToDo list with attributes like tasks and due dates. Implement methods to add tasks,\n",
    "mark tasks as completed, and display pending tasks."
   ]
  },
  {
   "cell_type": "code",
   "execution_count": 102,
   "id": "61df353a-2c6d-4d6d-b4d8-e723dab347ec",
   "metadata": {},
   "outputs": [
    {
     "name": "stdout",
     "output_type": "stream",
     "text": [
      "('new tsk added:', 'mail to prof')\n",
      "('task not found', 'assignmen')\n",
      "pending tasks are: ['do python', 'registration', 'assignment', 'mail to prof']\n"
     ]
    }
   ],
   "source": [
    "class todo_list:\n",
    "    \n",
    "    def __init__(self,tasks,duedates):\n",
    "        self.tasks = tasks\n",
    "        self.duedates = duedates\n",
    "        \n",
    "    def add_tasks(self,new_task):\n",
    "        self.tasks.append(new_task)\n",
    "        return \"new tsk added:\",new_task\n",
    "    \n",
    "    def marktasks(self,completedtask):\n",
    "        if completedtask in self.tasks:\n",
    "            self.tasks.remove(completedtask)\n",
    "            return \"completed task:\",completedtask\n",
    "        else:\n",
    "            return \"task not found\",completedtask\n",
    "    def display(self):\n",
    "            \n",
    "            print( \"pending tasks are:\",self.tasks) \n",
    "    \n",
    "todolist = todo_list([\"do python\",\"registration\",\"assignment\"],[12,13,10])\n",
    "print(todolist.add_tasks(\"mail to prof\"))\n",
    "print(todolist.marktasks(\"assignmen\"))\n",
    "todolist.display()"
   ]
  },
  {
   "cell_type": "code",
   "execution_count": null,
   "id": "9e5ff380-ecdf-44a0-a74d-c649a6b6b15d",
   "metadata": {},
   "outputs": [],
   "source": []
  }
 ],
 "metadata": {
  "kernelspec": {
   "display_name": "Python 3 (ipykernel)",
   "language": "python",
   "name": "python3"
  },
  "language_info": {
   "codemirror_mode": {
    "name": "ipython",
    "version": 3
   },
   "file_extension": ".py",
   "mimetype": "text/x-python",
   "name": "python",
   "nbconvert_exporter": "python",
   "pygments_lexer": "ipython3",
   "version": "3.10.8"
  }
 },
 "nbformat": 4,
 "nbformat_minor": 5
}
